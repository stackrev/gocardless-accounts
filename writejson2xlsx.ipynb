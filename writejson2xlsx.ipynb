{
 "cells": [
  {
   "cell_type": "code",
   "execution_count": 7,
   "metadata": {},
   "outputs": [
    {
     "name": "stdout",
     "output_type": "stream",
     "text": [
      "Data written to transactions.xlsx\n"
     ]
    }
   ],
   "source": [
    "import pandas as pd\n",
    "\n",
    "# Assuming the JSON data is stored in a list called 'transactions'\n",
    "transactions = [\n",
    "    {\n",
    "        \"transactionId\": \"6482255b-fee7-a481-8acc-e49278d4be6e\",\n",
    "        \"bookingDate\": \"2023-06-09\",\n",
    "        \"valueDate\": \"2023-06-08\",\n",
    "        \"bookingDateTime\": \"2023-06-09T05:02:01.873101Z\",\n",
    "        \"valueDateTime\": \"2023-06-08T19:00:43.876722Z\",\n",
    "        \"transactionAmount\": {\n",
    "            \"amount\": \"-15.00\",\n",
    "            \"currency\": \"EUR\"\n",
    "        },\n",
    "        \"creditorName\": \"R.e.t. N.v.\",\n",
    "        \"remittanceInformationUnstructuredArray\": [\n",
    "            \"R.e.t. N.v.\"\n",
    "        ],\n",
    "        \"proprietaryBankTransactionCode\": \"CARD_PAYMENT\",\n",
    "        \"internalTransactionId\": \"463b80c11cf0000724922323f268fa0e\"\n",
    "    },\n",
    "\n",
    "    {\n",
    "        \"transactionId\": \"6482255b-fee7-a481-8acc-e49278d4be6e\",\n",
    "        \"bookingDate\": \"2023-06-09\",\n",
    "        \"valueDate\": \"2023-06-08\",\n",
    "        \"bookingDateTime\": \"2023-06-09T05:02:01.873101Z\",\n",
    "        \"valueDateTime\": \"2023-06-08T19:00:43.876722Z\",\n",
    "        \"transactionAmount\": {\n",
    "            \"amount\": \"-15.00\",\n",
    "            \"currency\": \"EUR\"\n",
    "        },\n",
    "        \"creditorName\": \"R.e.t. N.v.\",\n",
    "        \"remittanceInformationUnstructuredArray\": [\n",
    "            \"R.e.t. N.v.\"\n",
    "        ],\n",
    "        \"proprietaryBankTransactionCode\": \"CARD_PAYMENT\",\n",
    "        \"internalTransactionId\": \"463b80c11cf0000724922323f268fa0e\"\n",
    "    }\n",
    "]\n",
    "\n",
    "# Convert the JSON data to a pandas DataFrame\n",
    "df = pd.DataFrame(transactions)\n",
    "\n",
    "# Define the output file path\n",
    "output_file = 'transactions.xlsx'\n",
    "\n",
    "# Write the DataFrame to an XLSX file\n",
    "df.to_excel(output_file, index=False)\n",
    "\n",
    "print(f\"Data written to {output_file}\")\n"
   ]
  },
  {
   "cell_type": "code",
   "execution_count": null,
   "metadata": {},
   "outputs": [],
   "source": [
    "sudo apt-get install -y make build-essential libssl-dev zlib1g-dev libbz2-dev libreadline-dev libsqlite3-dev wget curl llvm libncurses5-dev libncursesw5-dev xz-utils tk-dev libffi-dev liblzma-dev python-openssl git"
   ]
  }
 ],
 "metadata": {
  "kernelspec": {
   "display_name": "gocardless",
   "language": "python",
   "name": "python3"
  },
  "language_info": {
   "codemirror_mode": {
    "name": "ipython",
    "version": 3
   },
   "file_extension": ".py",
   "mimetype": "text/x-python",
   "name": "python",
   "nbconvert_exporter": "python",
   "pygments_lexer": "ipython3",
   "version": "3.8.10"
  },
  "orig_nbformat": 4
 },
 "nbformat": 4,
 "nbformat_minor": 2
}
